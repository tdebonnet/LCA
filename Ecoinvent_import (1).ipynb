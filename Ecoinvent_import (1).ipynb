{
 "cells": [
  {
   "cell_type": "code",
   "execution_count": 61,
   "metadata": {},
   "outputs": [],
   "source": [
    "from brightway2 import *\n",
    "import brightway2 as bw\n",
    "import os               # to use \"operating system dependent functionality\"\n",
    "import numpy as np      # \"the fundamental package for scientific computing with Python\"\n",
    "import pandas as pd     # \"high-performance, easy-to-use data structures and data analysis tools\" for Python\n",
    "from bw2data.parameters import ActivityParameter, DatabaseParameter, ProjectParameter, Group\n",
    "import sys\n",
    "import math\n",
    "import zipfile\n",
    "from bw2data.utils import download_file"
   ]
  },
  {
   "cell_type": "code",
   "execution_count": 62,
   "metadata": {},
   "outputs": [],
   "source": [
    "bw.projects.set_current('import_BDD_ecoinvent')\n"
   ]
  },
  {
   "cell_type": "code",
   "execution_count": 6,
   "metadata": {},
   "outputs": [
    {
     "name": "stdout",
     "output_type": "stream",
     "text": [
      "Extracting XML data from 13831 datasets\n",
      "Extracted 13831 datasets in 203.04 seconds\n",
      "Applying strategy: normalize_units\n",
      "Applying strategy: update_ecoinvent_locations\n",
      "Applying strategy: remove_zero_amount_coproducts\n",
      "Applying strategy: remove_zero_amount_inputs_with_no_activity\n",
      "Applying strategy: remove_unnamed_parameters\n",
      "Applying strategy: es2_assign_only_product_with_amount_as_reference_product\n",
      "Applying strategy: assign_single_product_as_activity\n",
      "Applying strategy: create_composite_code\n",
      "Applying strategy: drop_unspecified_subcategories\n",
      "Applying strategy: fix_ecoinvent_flows_pre35\n",
      "Applying strategy: drop_temporary_outdated_biosphere_flows\n",
      "Applying strategy: link_biosphere_by_flow_uuid\n",
      "Applying strategy: link_internal_technosphere_by_composite_code\n",
      "Applying strategy: delete_exchanges_missing_activity\n",
      "Applying strategy: delete_ghost_exchanges\n",
      "Applying strategy: remove_uncertainty_from_negative_loss_exchanges\n",
      "Applying strategy: fix_unreasonably_high_lognormal_uncertainties\n",
      "Applying strategy: set_lognormal_loc_value\n",
      "Applying strategy: convert_activity_parameters_to_list\n",
      "Applying strategy: add_cpc_classification_from_single_reference_product\n",
      "Applied 20 strategies in 9.34 seconds\n",
      "13831 datasets\n",
      "501148 exchanges\n",
      "0 unlinked exchanges\n",
      "  \n"
     ]
    }
   ],
   "source": [
    "#ecoinvent\n",
    "if 'ecoinvent 3.3_cutoff_ecoSpold02' in bw.databases:\n",
    "    print(\"Database has already been imported.\")\n",
    "else:\n",
    "    # mind that the ecoinvent file must be unzipped; then: path to the datasets subfolder\n",
    "    fpei33cut = r\"C:\\Users\\Public\\Documents\\ecoinvent\\ecoinvent3.3\\datasets\"\n",
    "    # the \"r\" makes sure that the path is read as a string - especially useful when you have spaces in your string\n",
    "    ei33cut = bw.SingleOutputEcospold2Importer(fpei33cut, 'ei33')\n",
    "    ei33cut\n",
    "    ei33cut.apply_strategies()\n",
    "    ei33cut.statistics()\n"
   ]
  },
  {
   "cell_type": "code",
   "execution_count": 63,
   "metadata": {},
   "outputs": [
    {
     "name": "stdout",
     "output_type": "stream",
     "text": [
      "Vacuuming database \n"
     ]
    },
    {
     "name": "stderr",
     "output_type": "stream",
     "text": [
      "Writing activities to SQLite3 database:\n",
      "0% [##############################] 100% | ETA: 00:00:00\n",
      "Total time elapsed: 00:16:33\n"
     ]
    },
    {
     "name": "stdout",
     "output_type": "stream",
     "text": [
      "Title: Writing activities to SQLite3 database:\n",
      "  Started: 02/26/2021 09:10:30\n",
      "  Finished: 02/26/2021 09:27:03\n",
      "  Total time elapsed: 00:16:33\n",
      "  CPU %: 16.90\n",
      "  Memory %: 10.60\n",
      "Created database: ei33\n"
     ]
    },
    {
     "data": {
      "text/plain": [
       "Brightway2 SQLiteBackend: ei33"
      ]
     },
     "execution_count": 63,
     "metadata": {},
     "output_type": "execute_result"
    }
   ],
   "source": [
    "#write database to disk --> actually saves it\n",
    "ei33cut.write_database()"
   ]
  },
  {
   "cell_type": "code",
   "execution_count": 64,
   "metadata": {},
   "outputs": [
    {
     "data": {
      "text/plain": [
       "Databases dictionary with 2 object(s):\n",
       "\tbiosphere3\n",
       "\tei33"
      ]
     },
     "execution_count": 64,
     "metadata": {},
     "output_type": "execute_result"
    }
   ],
   "source": [
    "bw.databases"
   ]
  },
  {
   "cell_type": "code",
   "execution_count": 65,
   "metadata": {},
   "outputs": [
    {
     "name": "stdout",
     "output_type": "stream",
     "text": [
      "Extracted 1 unallocated datasets in 0.03 seconds\n",
      "1 datasets\n",
      "39 exchanges\n",
      "39 unlinked exchanges\n",
      "  Type biosphere: 3 unique unlinked exchanges\n",
      "  Type production: 1 unique unlinked exchanges\n",
      "  Type technosphere: 35 unique unlinked exchanges\n"
     ]
    },
    {
     "data": {
      "text/plain": [
       "(1, 39, 39)"
      ]
     },
     "execution_count": 65,
     "metadata": {},
     "output_type": "execute_result"
    }
   ],
   "source": [
    "sp = SimaProCSVImporter(r\"C:\\Users\\TD264999\\Documents\\BDD_export\\Test_AB\\Test_AB_1\\wind_turbine.csv\", \"eolienne\")\n",
    "sp.statistics()"
   ]
  },
  {
   "cell_type": "code",
   "execution_count": 52,
   "metadata": {
    "scrolled": true
   },
   "outputs": [
    {
     "name": "stdout",
     "output_type": "stream",
     "text": [
      "Applying strategy: normalize_units\n",
      "Applying strategy: update_ecoinvent_locations\n",
      "Applying strategy: assign_only_product_as_production\n",
      "Applying strategy: drop_unspecified_subcategories\n",
      "Applying strategy: sp_allocate_products\n",
      "Applying strategy: fix_zero_allocation_products\n",
      "Applying strategy: split_simapro_name_geo\n",
      "Applying strategy: strip_biosphere_exc_locations\n",
      "Applying strategy: migrate_datasets\n",
      "Applying strategy: migrate_exchanges\n",
      "Applying strategy: set_code_by_activity_hash\n",
      "Applying strategy: link_technosphere_based_on_name_unit_location\n",
      "Applying strategy: change_electricity_unit_mj_to_kwh\n",
      "Applying strategy: set_lognormal_loc_value_uncertainty_safe\n",
      "Applying strategy: normalize_biosphere_categories\n",
      "Applying strategy: normalize_simapro_biosphere_categories\n",
      "Applying strategy: normalize_biosphere_names\n",
      "Applying strategy: normalize_simapro_biosphere_names\n",
      "Applying strategy: migrate_exchanges\n",
      "Applying strategy: fix_localized_water_flows\n",
      "Applying strategy: link_iterable_by_fields\n",
      "Applying strategy: convert_activity_parameters_to_list\n",
      "Applied 22 strategies in 0.35 seconds\n",
      "1 datasets\n",
      "39 exchanges\n",
      "35 unlinked exchanges\n",
      "  Type technosphere: 35 unique unlinked exchanges\n"
     ]
    },
    {
     "data": {
      "text/plain": [
       "(1, 39, 35)"
      ]
     },
     "execution_count": 52,
     "metadata": {},
     "output_type": "execute_result"
    }
   ],
   "source": [
    "sp.apply_strategies()\n",
    "sp.statistics()"
   ]
  },
  {
   "cell_type": "code",
   "execution_count": 66,
   "metadata": {},
   "outputs": [
    {
     "name": "stdout",
     "output_type": "stream",
     "text": [
      "Applying strategy: migrate_datasets\n",
      "Applying strategy: migrate_exchanges\n"
     ]
    }
   ],
   "source": [
    "#sp.migrate(\"simapro-ecoinvent-3\")\n",
    "sp.migrate('default-units')"
   ]
  },
  {
   "cell_type": "code",
   "execution_count": 67,
   "metadata": {},
   "outputs": [
    {
     "data": {
      "text/plain": [
       "[<function bw2io.strategies.generic.normalize_units>,\n",
       " <function bw2io.strategies.locations.update_ecoinvent_locations>,\n",
       " <function bw2io.strategies.generic.assign_only_product_as_production>,\n",
       " <function bw2io.strategies.biosphere.drop_unspecified_subcategories>,\n",
       " <function bw2io.strategies.simapro.sp_allocate_products>]"
      ]
     },
     "execution_count": 67,
     "metadata": {},
     "output_type": "execute_result"
    }
   ],
   "source": [
    "sp.strategies[:5]"
   ]
  },
  {
   "cell_type": "code",
   "execution_count": 55,
   "metadata": {},
   "outputs": [
    {
     "name": "stdout",
     "output_type": "stream",
     "text": [
      "Applying strategy: normalize_units\n",
      "Applying strategy: update_ecoinvent_locations\n",
      "Applying strategy: assign_only_product_as_production\n",
      "Applying strategy: drop_unspecified_subcategories\n",
      "Applying strategy: sp_allocate_products\n",
      "Applied 5 strategies in 0.00 seconds\n"
     ]
    }
   ],
   "source": [
    "sp.apply_strategies(sp.strategies[:5])\n"
   ]
  },
  {
   "cell_type": "code",
   "execution_count": 81,
   "metadata": {},
   "outputs": [
    {
     "name": "stdout",
     "output_type": "stream",
     "text": [
      "Applying strategy: link_iterable_by_fields\n",
      "1 datasets\n",
      "39 exchanges\n",
      "39 unlinked exchanges\n",
      "  Type biosphere: 3 unique unlinked exchanges\n",
      "  Type production: 1 unique unlinked exchanges\n",
      "  Type technosphere: 35 unique unlinked exchanges\n"
     ]
    },
    {
     "data": {
      "text/plain": [
       "(1, 39, 39)"
      ]
     },
     "execution_count": 81,
     "metadata": {},
     "output_type": "execute_result"
    }
   ],
   "source": [
    "from bw2io import *\n",
    "sp.apply_strategy(functools.partial(\n",
    "    link_iterable_by_fields, \n",
    "    other=Database(\"ei33\"),\n",
    "    kind=\"technosphere\",\n",
    "    fields=[\"reference product\", \"name\", \"unit\", \"location\"]\n",
    "))\n",
    "\n",
    "sp.statistics()"
   ]
  },
  {
   "cell_type": "code",
   "execution_count": 56,
   "metadata": {},
   "outputs": [],
   "source": [
    "#from bw2io.utils import activity_hash\n",
    "\n",
    "#def match_by_activity_hash(data):\n",
    "#    eidb33 = Database(\"ei33\")\n",
    "#    fields = [\"name\", \"unit\", \"location\"]\n",
    " #   eidb33_hashes = {activity_hash(ds, fields=fields) for ds in eidb33}\n",
    "  #  #assert len(eidb33) == len(eidb33_hashes)\n",
    "   # return [obj for obj in data if activity_hash(obj, fields=fields) not in eidb33_hashes]"
   ]
  },
  {
   "cell_type": "code",
   "execution_count": 57,
   "metadata": {},
   "outputs": [
    {
     "name": "stdout",
     "output_type": "stream",
     "text": [
      "Applying strategy: match_by_activity_hash\n",
      "1 datasets\n",
      "39 exchanges\n",
      "35 unlinked exchanges\n",
      "  Type technosphere: 35 unique unlinked exchanges\n"
     ]
    },
    {
     "data": {
      "text/plain": [
       "(1, 39, 35)"
      ]
     },
     "execution_count": 57,
     "metadata": {},
     "output_type": "execute_result"
    }
   ],
   "source": [
    "#sp.apply_strategy(match_by_activity_hash)\n",
    "#sp.statistics()"
   ]
  },
  {
   "cell_type": "code",
   "execution_count": 80,
   "metadata": {},
   "outputs": [
    {
     "name": "stdout",
     "output_type": "stream",
     "text": [
      "Applying strategy: link_iterable_by_fields\n",
      "1 datasets\n",
      "39 exchanges\n",
      "39 unlinked exchanges\n",
      "  Type biosphere: 3 unique unlinked exchanges\n",
      "  Type production: 1 unique unlinked exchanges\n",
      "  Type technosphere: 35 unique unlinked exchanges\n"
     ]
    },
    {
     "data": {
      "text/plain": [
       "(1, 39, 39)"
      ]
     },
     "execution_count": 80,
     "metadata": {},
     "output_type": "execute_result"
    }
   ],
   "source": [
    "sp.match_database(\"ei33\", ignore_categories=True)\n",
    "sp.statistics()"
   ]
  },
  {
   "cell_type": "code",
   "execution_count": 75,
   "metadata": {
    "scrolled": true
   },
   "outputs": [
    {
     "name": "stdout",
     "output_type": "stream",
     "text": [
      "Wind turbine, 4.5MW, onshore {GLO}| construction | SE p ('Electricity by fuel', 'Wind', 'Transformation', 'Infrastructure')\n",
      "Occupation, industrial area m2a ('Resources', 'land')\n",
      "Transformation, to industrial area m2 ('Resources', 'land')\n",
      "Transformation, from pasture, man made m2 ('Resources', 'land')\n",
      "Excavation, hydraulic digger {GLO}| market for | Alloc Def, U m3 ('Materials/fuels',)\n",
      "Steel, chromium steel 18/8 {GLO}| market for | Alloc Def, U kg ('Materials/fuels',)\n",
      "Polyethylene, high density, granulate {GLO}| market for | Alloc Def, U kg ('Materials/fuels',)\n",
      "Polyvinylchloride, emulsion polymerised {GLO}| market for | Alloc Def, U kg ('Materials/fuels',)\n",
      "Aluminium, wrought alloy {GLO}| market for | Alloc Def, U kg ('Materials/fuels',)\n",
      "Glass fibre reinforced plastic, polyamide, injection moulded {GLO}| market for | Alloc Def, U kg ('Materials/fuels',)\n",
      "Sheet rolling, steel {GLO}| market for | Alloc Def, U kg ('Materials/fuels',)\n",
      "Sheet rolling, chromium steel {GLO}| market for | Alloc Def, U kg ('Materials/fuels',)\n",
      "Copper {GLO}| market for | Alloc Def, U kg ('Materials/fuels',)\n",
      "Synthetic rubber {GLO}| market for | Alloc Def, U kg ('Materials/fuels',)\n",
      "Sheet rolling, aluminium {GLO}| market for | Alloc Def, U kg ('Materials/fuels',)\n",
      "Wire drawing, copper {GLO}| market for | Alloc Def, U kg ('Materials/fuels',)\n",
      "Aluminium, cast alloy {GLO}| market for | Alloc Def, U kg ('Materials/fuels',)\n",
      "Reinforcing steel {GLO}| market for | Alloc Def, U kg ('Materials/fuels',)\n",
      "Electronics, for control units {GLO}| market for | Alloc Def, U kg ('Materials/fuels',)\n",
      "Polyvinylchloride, suspension polymerised {GLO}| market for | Alloc Def, U kg ('Materials/fuels',)\n",
      "Epoxy resin, liquid {GLO}| market for | Alloc Def, U kg ('Materials/fuels',)\n",
      "Cast iron {GLO}| market for | Alloc Def, U kg ('Materials/fuels',)\n",
      "Steel, low-alloyed {GLO}| market for | Alloc Def, U kg ('Materials/fuels',)\n",
      "Alkyd paint, white, without water, in 60% solution state {GLO}| market for | Alloc Def, U kg ('Materials/fuels',)\n",
      "Concrete, normal {CH}| market for | Alloc Def, U m3 ('Materials/fuels',)\n",
      "Concrete, normal {RoW}| market for | Alloc Def, U m3 ('Materials/fuels',)\n",
      "Road {CH}| market for road | Alloc Def, U my ('Materials/fuels',)\n",
      "Road {RoW}| market for road | Alloc Def, U my ('Materials/fuels',)\n",
      "Electricity, medium voltage {GLO}| market group for | Alloc Def, U kWh ('Electricity/heat',)\n",
      "Aluminium scrap, post-consumer {GLO}| market for | Alloc Def, U kg ('Waste to treatment',)\n",
      "Electronics scrap from control units {GLO}| market for | Alloc Def, U kg ('Waste to treatment',)\n",
      "Waste paint on wall {GLO}| market for | Alloc Def, U kg ('Waste to treatment',)\n",
      "Scrap copper {Europe without Switzerland}| market for scrap copper | Alloc Def, U kg ('Waste to treatment',)\n",
      "Scrap copper {CH}| market for scrap copper | Alloc Def, U kg ('Waste to treatment',)\n",
      "Scrap copper {RoW}| market for scrap copper | Alloc Def, U kg ('Waste to treatment',)\n",
      "Waste reinforced concrete {Europe without Switzerland}| market for waste reinforced concrete | Alloc Def, U kg ('Waste to treatment',)\n",
      "Waste reinforced concrete {CH}| market for waste reinforced concrete | Alloc Def, U kg ('Waste to treatment',)\n",
      "Waste reinforced concrete {RoW}| market for waste reinforced concrete | Alloc Def, U kg ('Waste to treatment',)\n",
      "Waste plastic, mixture {Europe without Switzerland}| market for waste plastic, mixture | Alloc Def, U kg ('Waste to treatment',)\n"
     ]
    }
   ],
   "source": [
    "for i, e in enumerate(sp.unlinked):\n",
    "    print(e['name'], e['unit'], e['categories'])\n",
    "    if i > 40:\n",
    "        break"
   ]
  },
  {
   "cell_type": "code",
   "execution_count": 76,
   "metadata": {},
   "outputs": [
    {
     "name": "stdout",
     "output_type": "stream",
     "text": [
      "Wrote matching file to:\n",
      "C:\\Users\\TD264999\\AppData\\Local\\pylca\\Brightway3\\import_BDD_ecoinvent.b8499629751d715829a9e9cc3bdb3ffe\\output\\db-matching-eolienne.xlsx\n"
     ]
    }
   ],
   "source": [
    "sp.write_excel()"
   ]
  },
  {
   "cell_type": "code",
   "execution_count": null,
   "metadata": {},
   "outputs": [],
   "source": []
  }
 ],
 "metadata": {
  "kernelspec": {
   "display_name": "Python 3",
   "language": "python",
   "name": "python3"
  },
  "language_info": {
   "codemirror_mode": {
    "name": "ipython",
    "version": 3
   },
   "file_extension": ".py",
   "mimetype": "text/x-python",
   "name": "python",
   "nbconvert_exporter": "python",
   "pygments_lexer": "ipython3",
   "version": "3.6.12"
  }
 },
 "nbformat": 4,
 "nbformat_minor": 4
}
